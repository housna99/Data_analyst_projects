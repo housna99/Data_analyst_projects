{
 "cells": [
  {
   "cell_type": "code",
   "execution_count": null,
   "id": "34743299-5ccc-456e-af01-85d15f252a7b",
   "metadata": {},
   "outputs": [],
   "source": [
    "import pandas as pd"
   ]
  },
  {
   "cell_type": "code",
   "execution_count": null,
   "id": "e846594c-b654-4e3c-b72a-34c010fbd801",
   "metadata": {},
   "outputs": [],
   "source": [
    "df_customers=pd.read_csv('Cafe+Rewards+Offers/customers.csv')\n",
    "df_offers=pd.read_csv('Cafe+Rewards+Offers/offers.csv')\n",
    "df_events=pd.read_csv('Cafe+Rewards+Offers/events.csv')\n",
    "df_info=pd.read_csv('Cafe+Rewards+Offers/data_dictionary.csv')"
   ]
  },
  {
   "cell_type": "code",
   "execution_count": null,
   "id": "4c0fcfc4",
   "metadata": {},
   "outputs": [],
   "source": [
    "df_events=pd.read_csv('Cafe+Rewards+Offers/events.csv')\n",
    "df_events"
   ]
  },
  {
   "cell_type": "code",
   "execution_count": null,
   "id": "f7fb45a1-e4f2-4698-8b75-18a33cfbcd38",
   "metadata": {},
   "outputs": [],
   "source": [
    "# Display all content columns\n",
    "pd.set_option('display.max_colwidth', None)\n",
    "df_info"
   ]
  },
  {
   "cell_type": "code",
   "execution_count": null,
   "id": "8c96da4c-a88f-422a-9a75-3146c330d21a",
   "metadata": {},
   "outputs": [],
   "source": [
    "print(df_customers.isnull().sum())\n",
    "print(df_offers.isnull().sum())\n",
    "print(df_events.isnull().sum())\n"
   ]
  },
  {
   "cell_type": "markdown",
   "id": "ec452729-2a2f-4b89-b2df-65e0b49e79b3",
   "metadata": {},
   "source": [
    " Missing values in df_customers columns gender and income "
   ]
  },
  {
   "cell_type": "markdown",
   "id": "12c0d8c0-6c25-488c-a982-b25085d26f14",
   "metadata": {},
   "source": [
    "# Merge datasets"
   ]
  },
  {
   "cell_type": "code",
   "execution_count": null,
   "id": "54f94718-eb1d-41bf-9c2b-bc8c9916008f",
   "metadata": {},
   "outputs": [],
   "source": [
    "print(df_events['value'].apply(type).value_counts())"
   ]
  },
  {
   "cell_type": "code",
   "execution_count": null,
   "id": "b02f552f-16ad-45eb-bb24-0033bee9b204",
   "metadata": {},
   "outputs": [],
   "source": [
    "import ast\n",
    "df_events['value_dict'] = df_events['value'].apply(lambda x: ast.literal_eval(x) if isinstance(x, str) else x)"
   ]
  },
  {
   "cell_type": "code",
   "execution_count": null,
   "id": "c9e6342f-8ec2-48e7-a3e6-04d8f51f98aa",
   "metadata": {},
   "outputs": [],
   "source": [
    "# Create new columns for each key in the dictionary directly\n",
    "df_events['offer_id'] = df_events['value_dict'].apply(lambda x: x.get('offer id') if isinstance(x, dict) else None)\n"
   ]
  },
  {
   "cell_type": "code",
   "execution_count": null,
   "id": "88c6d7ae-4e54-4f84-bc67-6d242b354af9",
   "metadata": {},
   "outputs": [],
   "source": [
    "df_events"
   ]
  },
  {
   "cell_type": "code",
   "execution_count": null,
   "id": "3984ad9b-7664-41fd-9ae0-e7116d12dc28",
   "metadata": {},
   "outputs": [],
   "source": [
    "df_events['amount'] = df_events['value_dict'].apply(lambda x: x.get('amount') if isinstance(x, dict) else None)\n",
    "df_events['reward'] = df_events['value_dict'].apply(lambda x: x.get('reward') if isinstance(x, dict) else None)"
   ]
  },
  {
   "cell_type": "code",
   "execution_count": null,
   "id": "19a7e5f1-0129-4a64-9a60-00420280a3d0",
   "metadata": {},
   "outputs": [],
   "source": [
    "df_events[['reward']].value_counts()"
   ]
  },
  {
   "cell_type": "code",
   "execution_count": null,
   "id": "f430079d-4fc6-4023-91e6-5f855ca222f5",
   "metadata": {},
   "outputs": [],
   "source": [
    "df_events.drop(columns=['value', 'value_dict'], inplace=True)"
   ]
  },
  {
   "cell_type": "markdown",
   "id": "5e9324ec-e66a-493a-9028-e18626787e1d",
   "metadata": {},
   "source": [
    "all type of offers a part transaction "
   ]
  },
  {
   "cell_type": "code",
   "execution_count": null,
   "id": "e099574e-f427-4766-af5a-ece03a256cc1",
   "metadata": {},
   "outputs": [],
   "source": [
    "df_all=df_customers.merge(df_events, on='customer_id',how='left').merge(df_offers, on='offer_id', how='left')\n",
    "df_all"
   ]
  },
  {
   "cell_type": "code",
   "execution_count": null,
   "id": "0f9f432f-18e0-4145-a920-1a0627389167",
   "metadata": {},
   "outputs": [],
   "source": [
    "df_all['channels'] = df_all['channels'].apply(lambda x: [] if pd.isna(x) else x)"
   ]
  },
  {
   "cell_type": "code",
   "execution_count": null,
   "id": "d1c45b35-75e4-4001-9c8a-f188678ec7aa",
   "metadata": {},
   "outputs": [],
   "source": [
    "df_all.rename(columns={'reward_x': 'reward_events', 'reward_y': 'reward_offers'}, inplace=True)"
   ]
  },
  {
   "cell_type": "code",
   "execution_count": null,
   "id": "123c2c58-56b0-4cd9-926c-9c72fb291048",
   "metadata": {},
   "outputs": [],
   "source": [
    "df_all"
   ]
  },
  {
   "cell_type": "code",
   "execution_count": null,
   "id": "a180f256-3acd-4f36-9e84-d2bc2040e194",
   "metadata": {},
   "outputs": [],
   "source": [
    "df_all['email'] = df_all['channels'].apply(lambda x: 1 if 'email' in x else 0)\n",
    "df_all['mobile'] = df_all['channels'].apply(lambda x: 1 if 'mobile' in x else 0)\n",
    "df_all['social'] = df_all['channels'].apply(lambda x: 1 if 'social' in x else 0)\n",
    "df_all['web'] = df_all['channels'].apply(lambda x: 1 if 'web' in x else 0)\n",
    "print(df_all)"
   ]
  },
  {
   "cell_type": "code",
   "execution_count": null,
   "id": "4700e52a-4494-4f42-8d45-b95c8bcc870f",
   "metadata": {},
   "outputs": [],
   "source": [
    "df_all.drop(columns=['channels'], inplace=True)"
   ]
  },
  {
   "cell_type": "code",
   "execution_count": null,
   "id": "30d13ed9-c4a5-4c18-b5c8-aeae75bd9bbd",
   "metadata": {},
   "outputs": [],
   "source": [
    "df_all"
   ]
  },
  {
   "cell_type": "code",
   "execution_count": null,
   "id": "556cecd5-74cc-4b34-a835-c932a9b89e8c",
   "metadata": {},
   "outputs": [],
   "source": [
    "df_all['date_membership'] = pd.to_datetime(df_all['became_member_on'], format='%Y%m%d')\n",
    "df_all.head()"
   ]
  },
  {
   "cell_type": "code",
   "execution_count": null,
   "id": "8c0d20f9-ce2e-47be-82cd-8411fa28f50a",
   "metadata": {},
   "outputs": [],
   "source": [
    "df_all.drop(columns=['became_member_on'], inplace=True)"
   ]
  },
  {
   "cell_type": "code",
   "execution_count": null,
   "id": "910b70e2-b668-4952-ac40-7a1f92be0d9d",
   "metadata": {},
   "outputs": [],
   "source": [
    "df_all.head()"
   ]
  },
  {
   "cell_type": "code",
   "execution_count": null,
   "id": "ca052d83-47bb-47fd-8723-52340d1d04fa",
   "metadata": {},
   "outputs": [],
   "source": [
    "pd.unique(df_all['gender'])"
   ]
  },
  {
   "cell_type": "code",
   "execution_count": null,
   "id": "b9b791e0-6914-4274-9d72-dbae4c7c1460",
   "metadata": {},
   "outputs": [],
   "source": [
    "print(df_all['gender'].value_counts(dropna=False))\n"
   ]
  },
  {
   "cell_type": "code",
   "execution_count": null,
   "id": "b184e424-ff5e-4425-82ee-541c26b7c65e",
   "metadata": {},
   "outputs": [],
   "source": [
    "df_all['gender'].fillna('Unknown', inplace=True)  # Treat NaN as 'Unknown'\n",
    "print(df_all['gender'].value_counts(dropna=False))"
   ]
  },
  {
   "cell_type": "code",
   "execution_count": null,
   "id": "808c1be2-b099-4392-852c-9e92311fe534",
   "metadata": {},
   "outputs": [],
   "source": [
    "df_all.to_csv('data_offers.csv')"
   ]
  },
  {
   "cell_type": "markdown",
   "id": "a932b6a5-3b4c-48d6-9f14-627385ade788",
   "metadata": {},
   "source": [
    "## Transactions"
   ]
  },
  {
   "cell_type": "code",
   "execution_count": null,
   "id": "38558b75-d291-4258-8f4a-8faddca9c240",
   "metadata": {},
   "outputs": [],
   "source": [
    "df_customers"
   ]
  },
  {
   "cell_type": "code",
   "execution_count": null,
   "id": "97cfebe0-ca8c-404e-b586-3c5ab7f648d4",
   "metadata": {},
   "outputs": [],
   "source": [
    "df_offers"
   ]
  },
  {
   "cell_type": "code",
   "execution_count": null,
   "id": "ddde5a54-75a8-40b9-b82c-71e9b5c5e0b2",
   "metadata": {},
   "outputs": [],
   "source": [
    "df_events[df_events['event'] == 'transaction']"
   ]
  },
  {
   "cell_type": "code",
   "execution_count": null,
   "id": "fc0dffee-41df-48c1-8b28-caa86b168856",
   "metadata": {},
   "outputs": [],
   "source": [
    "df_transaction=df_customers.merge(df_events[df_events['event'] == 'transaction'], on='customer_id')\n",
    "df_transaction"
   ]
  },
  {
   "cell_type": "code",
   "execution_count": null,
   "id": "4abf93d9-b6f8-4f96-81e0-a3f407b1c024",
   "metadata": {},
   "outputs": [],
   "source": [
    "df_transaction['gender'].fillna('Unknown', inplace=True)  # Treat NaN as 'Unknown'\n",
    "print(df_transaction['gender'].value_counts(dropna=False))"
   ]
  },
  {
   "cell_type": "code",
   "execution_count": null,
   "id": "55105aad-5d3e-4501-a40b-7dd849ed2fa4",
   "metadata": {},
   "outputs": [],
   "source": [
    "df_transaction.to_csv('df_transaction.csv')"
   ]
  },
  {
   "cell_type": "markdown",
   "id": "f8adf87a-1fdd-4c7d-b039-c738f5773091",
   "metadata": {},
   "source": [
    "## Offer completed"
   ]
  },
  {
   "cell_type": "code",
   "execution_count": null,
   "id": "5b5fbb58-7d79-4ade-8267-9ba7ee3715e1",
   "metadata": {},
   "outputs": [],
   "source": [
    "df_events[df_events['event'] == 'offer completed']"
   ]
  },
  {
   "cell_type": "code",
   "execution_count": null,
   "id": "1e77c5de-1dfd-4b33-b659-ee515a835753",
   "metadata": {},
   "outputs": [],
   "source": [
    "df_offers_accepted=df_customers.merge(df_events[df_events['event'] == 'offer completed'], on='customer_id')\n",
    "df_offers_accepted"
   ]
  },
  {
   "cell_type": "code",
   "execution_count": null,
   "id": "6efc714e-38e2-4e00-bc37-5f856ea9857c",
   "metadata": {},
   "outputs": [],
   "source": [
    "df_offers_accepted['gender'].fillna('Unknown', inplace=True)  # Treat NaN as 'Unknown'\n",
    "print(df_offers_accepted['gender'].value_counts(dropna=False))"
   ]
  },
  {
   "cell_type": "code",
   "execution_count": null,
   "id": "02d9ba98-7abc-4af1-99ad-1f9cbdf24d25",
   "metadata": {},
   "outputs": [],
   "source": [
    "df_offers_accepted.to_csv('df_offers_accepted.csv')"
   ]
  }
 ],
 "metadata": {
  "kernelspec": {
   "display_name": "Python 3 (ipykernel)",
   "language": "python",
   "name": "python3"
  },
  "language_info": {
   "codemirror_mode": {
    "name": "ipython",
    "version": 3
   },
   "file_extension": ".py",
   "mimetype": "text/x-python",
   "name": "python",
   "nbconvert_exporter": "python",
   "pygments_lexer": "ipython3",
   "version": "3.12.0"
  }
 },
 "nbformat": 4,
 "nbformat_minor": 5
}
